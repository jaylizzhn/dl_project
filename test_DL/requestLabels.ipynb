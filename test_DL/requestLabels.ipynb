{
 "cells": [
  {
   "cell_type": "code",
   "execution_count": 1,
   "metadata": {},
   "outputs": [],
   "source": [
    "import os\n",
    "import argparse\n",
    "\n",
    "import torch\n",
    "import torch.nn as nn\n",
    "import torch.nn.functional as F\n",
    "from torchvision import datasets, transforms, models\n",
    "\n",
    "from dataloader import CustomDataset\n",
    "from submission import get_model, eval_transform, team_id, team_name, email_address\n",
    "\n"
   ]
  },
  {
   "cell_type": "code",
   "execution_count": 2,
   "metadata": {},
   "outputs": [
    {
     "name": "stdout",
     "output_type": "stream",
     "text": [
      "Team 10: dl10 Accuracy: 14.58%\n",
      "Team 10: dl10 Email: wl2337@nyu.edu\n"
     ]
    }
   ],
   "source": [
    "evalset = CustomDataset(root='D:/NYU\\DeepLearning\\hw\\Final\\dataset', split=\"val\", transform=eval_transform)\n",
    "evalloader = torch.utils.data.DataLoader(evalset, batch_size=256, shuffle=False, num_workers=2)\n",
    "\n",
    "net = get_model()\n",
    "checkPointDir = 'D:/NYU/DeepLearning/hw/Final_git/dl_project/test_DL/model.pth'\n",
    "checkpoint = torch.load(checkPointDir)\n",
    "net.load_state_dict(checkpoint)\n",
    "net = net.cuda()\n",
    "\n",
    "net.eval()\n",
    "correct = 0\n",
    "total = 0\n",
    "with torch.no_grad():\n",
    "    for data in evalloader:\n",
    "        images, labels = data\n",
    "\n",
    "        images = images.cuda()\n",
    "        labels = labels.cuda()\n",
    "\n",
    "        outputs = net(images)\n",
    "        #print(torch.max(outputs.data, 1))\n",
    "        _, predicted = torch.max(outputs.data, 1)\n",
    "        total += labels.size(0)\n",
    "        correct += (predicted == labels).sum().item()\n",
    "\n",
    "\n",
    "print(f\"Team {team_id}: {team_name} Accuracy: {(100 * correct / total):.2f}%\")\n",
    "print(f\"Team {team_id}: {team_name} Email: {email_address}\")"
   ]
  },
  {
   "cell_type": "code",
   "execution_count": 12,
   "metadata": {},
   "outputs": [],
   "source": [
    "# Feel free to modifiy this file. \n",
    "# It will only be used to verify the settings are correct \n",
    "\n",
    "import os\n",
    "import argparse\n",
    "\n",
    "import torch\n",
    "import torch.nn as nn\n",
    "import torch.nn.functional as F\n",
    "from torchvision import datasets, transforms, models\n",
    "\n",
    "from dataloader import CustomDataset\n",
    "from submission import *\n",
    "\n",
    "# parser = argparse.ArgumentParser()\n",
    "# parser.add_argument('--checkpoint-dir', type=str)\n",
    "# args = parser.parse_args()\n",
    "\n",
    "train_transform = transforms.Compose([\n",
    "    transforms.ToTensor(),\n",
    "])\n",
    "\n",
    "\n",
    "from submission import get_model, eval_transform, team_id, team_name, email_address\n",
    "\n",
    "unLabeledSet = CustomDataset(root='D:/NYU\\DeepLearning\\hw\\Final\\dataset', split=\"unlabeled\", transform=train_transform)\n",
    "unLabeledLoader = torch.utils.data.DataLoader(unLabeledSet, batch_size = 8, shuffle=False, num_workers = 2)\n",
    "\n",
    "\n",
    "\n",
    "\n",
    "with torch.no_grad():\n",
    "    net.eval()\n",
    "    newlyLabeledList = []\n",
    "    requestList = []\n",
    "    for iC, data in enumerate(unLabeledLoader):\n",
    "\n",
    "        # for data in evalloader:\n",
    "        images, labels = data\n",
    "\n",
    "        images = images.cuda()\n",
    "        labels = labels.cuda()\n",
    "\n",
    "        outputs = net(images)\n",
    "        #Smallest Margin Uncertainty\n",
    "        tk_v,tk_i = torch.topk(outputs,2)\n",
    "\n",
    "        \n",
    "        \n",
    "        #margin = torch.max(outputs, 1)[0] - torch.min(outputs, 1)[0]\n",
    "        margin = tk_v[:,0] - tk_v[:,1]\n",
    "\n",
    "        maxMarginPosition = torch.argmax(margin)\n",
    "        pickedUnlabelled_img = images[maxMarginPosition]\n",
    "        pickedUnlabelled_lbl = tk_i[maxMarginPosition][0]\n",
    "\n",
    "        names_start = iC*8\n",
    "        #print(maxMarginPosition)\n",
    "        if(maxMarginPosition==0):\n",
    "            request = names_start+1\n",
    "        else:\n",
    "            request = names_start\n",
    "        #print(pickedUnlabelled_img)\n",
    "        tempTouple = (names_start+maxMarginPosition, pickedUnlabelled_lbl,)\n",
    "        #print(tempTouple)\n",
    "        newlyLabeledList.append(tempTouple)\n",
    "        #print(pickedUnlabelled_img.tolist())\n",
    "        requestList.append(request)\n",
    "\n",
    "\n",
    "\n"
   ]
  },
  {
   "cell_type": "code",
   "execution_count": 13,
   "metadata": {},
   "outputs": [
    {
     "data": {
      "text/plain": [
       "64000"
      ]
     },
     "execution_count": 13,
     "metadata": {},
     "output_type": "execute_result"
    }
   ],
   "source": [
    "len(newlyLabeledList)"
   ]
  },
  {
   "cell_type": "code",
   "execution_count": 14,
   "metadata": {},
   "outputs": [
    {
     "data": {
      "text/plain": [
       "64000"
      ]
     },
     "execution_count": 14,
     "metadata": {},
     "output_type": "execute_result"
    }
   ],
   "source": [
    "len(requestList)"
   ]
  },
  {
   "cell_type": "code",
   "execution_count": 20,
   "metadata": {},
   "outputs": [],
   "source": [
    "with open('request_10.csv', 'w') as f:\n",
    "    for idx in requestList:\n",
    "        if(idx/8 >= 12800): break\n",
    "        print(f\"{idx}.png,\",file = f)\n",
    " "
   ]
  },
  {
   "cell_type": "code",
   "execution_count": 28,
   "metadata": {},
   "outputs": [],
   "source": [
    "with open('newlyLabeled.txt', 'w') as f:\n",
    "    for tempTouple in newlyLabeledList:\n",
    "        name,label = tempTouple\n",
    "        print(f\"{name.item()}.png,{label.item()}\",file = f)\n"
   ]
  },
  {
   "cell_type": "code",
   "execution_count": 33,
   "metadata": {},
   "outputs": [],
   "source": [
    "labelDir = r\"D:\\NYU\\DeepLearning\\hw\\Final\\dataset\\train_label_tensor.pt\""
   ]
  },
  {
   "cell_type": "code",
   "execution_count": 34,
   "metadata": {},
   "outputs": [],
   "source": [
    "givenlabels = torch.load(labelDir)"
   ]
  },
  {
   "cell_type": "code",
   "execution_count": 35,
   "metadata": {},
   "outputs": [
    {
     "data": {
      "text/plain": [
       "tensor([289, 289, 289,  ...,  93,  93,  93])"
      ]
     },
     "execution_count": 35,
     "metadata": {},
     "output_type": "execute_result"
    }
   ],
   "source": [
    "givenlabels"
   ]
  },
  {
   "cell_type": "code",
   "execution_count": null,
   "metadata": {},
   "outputs": [],
   "source": []
  }
 ],
 "metadata": {
  "kernelspec": {
   "display_name": "Python 3",
   "language": "python",
   "name": "python3"
  },
  "language_info": {
   "codemirror_mode": {
    "name": "ipython",
    "version": 3
   },
   "file_extension": ".py",
   "mimetype": "text/x-python",
   "name": "python",
   "nbconvert_exporter": "python",
   "pygments_lexer": "ipython3",
   "version": "3.7.6"
  }
 },
 "nbformat": 4,
 "nbformat_minor": 4
}
